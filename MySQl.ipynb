{
 "cells": [
  {
   "cell_type": "raw",
   "metadata": {},
   "source": [
    "MySQL Database\n",
    "To be able to experiment with the code examples in this tutorial, you should have MySQL installed on your computer.\n",
    "You can download a free MySQL database at https://www.mysql.com/downloads/.\n",
    "\n",
    "Install MySQL Driver\n",
    "Python needs a MySQL driver to access the MySQL database.\n",
    "In this tutorial we will use the driver \"MySQL Connector\".\n",
    "We recommend that you use PIP to install \"MySQL Connector\".\n",
    "PIP is most likely already installed in your Python environment.\n",
    "Navigate your command line to the location of PIP, and type the following:"
   ]
  },
  {
   "cell_type": "markdown",
   "metadata": {},
   "source": [
    "Create Connection\n",
    "Start by creating a connection to the database.\n",
    "Use the username and password from your MySQL database:\n"
   ]
  },
  {
   "cell_type": "code",
   "execution_count": 4,
   "metadata": {},
   "outputs": [
    {
     "name": "stdout",
     "output_type": "stream",
     "text": [
      "<mysql.connector.connection_cext.CMySQLConnection object at 0x000001F21C0A5C08>\n"
     ]
    }
   ],
   "source": [
    "import mysql.connector\n",
    "\n",
    "mydb = mysql.connector.connect(\n",
    "  host=\"localhost\",\n",
    "  user=\"root\",\n",
    "  passwd=\"your Password\"\n",
    ")\n",
    "\n",
    "print(mydb) "
   ]
  },
  {
   "cell_type": "markdown",
   "metadata": {},
   "source": [
    "# Python MySQL Create Database"
   ]
  },
  {
   "cell_type": "code",
   "execution_count": 5,
   "metadata": {},
   "outputs": [],
   "source": [
    "#create a database named \"mydatabase\":\n",
    "import mysql.connector\n",
    "\n",
    "mydb = mysql.connector.connect(\n",
    " host=\"localhost\",\n",
    "  user=\"root\",\n",
    "  passwd=\"your Password\"\n",
    ")\n",
    "\n",
    "mycursor = mydb.cursor()\n",
    "\n",
    "mycursor.execute(\"CREATE DATABASE mydatabase1\")"
   ]
  },
  {
   "cell_type": "markdown",
   "metadata": {},
   "source": [
    "# Check if Database Exists\n",
    "You can check if a database exist by listing all databases in your system by using the \"SHOW DATABASES\" statement:"
   ]
  },
  {
   "cell_type": "code",
   "execution_count": 6,
   "metadata": {},
   "outputs": [
    {
     "name": "stdout",
     "output_type": "stream",
     "text": [
      "('information_schema',)\n",
      "('mydatabase',)\n",
      "('mysql',)\n",
      "('performance_schema',)\n",
      "('sakila',)\n",
      "('sys',)\n",
      "('world',)\n"
     ]
    }
   ],
   "source": [
    "import mysql.connector\n",
    "\n",
    "mydb = mysql.connector.connect(\n",
    "  host=\"localhost\",\n",
    "  user=\"root\",\n",
    "  passwd=\"your Password\"\n",
    ")\n",
    "\n",
    "mycursor = mydb.cursor()\n",
    "\n",
    "mycursor.execute(\"SHOW DATABASES\")\n",
    "\n",
    "for x in mycursor:\n",
    "  print(x) "
   ]
  },
  {
   "cell_type": "code",
   "execution_count": 7,
   "metadata": {},
   "outputs": [],
   "source": [
    "#Try connecting to the database \"mydatabase\":\n",
    "import mysql.connector\n",
    "\n",
    "mydb = mysql.connector.connect(\n",
    "  host=\"localhost\",\n",
    "  user=\"root\",\n",
    "  passwd=\"your Password\",\n",
    "  database=\"mydatabase\"\n",
    ") "
   ]
  },
  {
   "cell_type": "markdown",
   "metadata": {},
   "source": [
    "# Creating a Table\n",
    "To create a table in MySQL, use the \"CREATE TABLE\" statement.\n",
    "Make sure you define the name of the database when you create the connection"
   ]
  },
  {
   "cell_type": "code",
   "execution_count": 30,
   "metadata": {},
   "outputs": [],
   "source": [
    "#Create a table named \"customers\":\n",
    "import mysql.connector\n",
    "\n",
    "mydb = mysql.connector.connect(\n",
    "  host=\"localhost\",\n",
    "  user=\"root\",\n",
    "  passwd=\"your Password\",\n",
    "  database=\"mydatabase\"\n",
    ")\n",
    "\n",
    "mycursor = mydb.cursor()\n",
    "\n",
    "mycursor.execute(\"CREATE TABLE customers (name VARCHAR(255), address VARCHAR(255))\")"
   ]
  },
  {
   "cell_type": "raw",
   "metadata": {},
   "source": [
    "# Check if Table Exists\n",
    "You can check if a table exist by listing all tables in your database with the \"SHOW TABLES\" statement:"
   ]
  },
  {
   "cell_type": "code",
   "execution_count": 9,
   "metadata": {},
   "outputs": [
    {
     "name": "stdout",
     "output_type": "stream",
     "text": [
      "('customers',)\n"
     ]
    }
   ],
   "source": [
    "#Return a list of your system's databases:\n",
    "import mysql.connector\n",
    "\n",
    "mydb = mysql.connector.connect(\n",
    "  host=\"localhost\",\n",
    "  user=\"root\",\n",
    "  passwd=\"your Password\",\n",
    "  database=\"mydatabase\"\n",
    ")\n",
    "\n",
    "mycursor = mydb.cursor()\n",
    "\n",
    "mycursor.execute(\"SHOW TABLES\")\n",
    "\n",
    "for x in mycursor:\n",
    "  print(x) "
   ]
  },
  {
   "cell_type": "raw",
   "metadata": {},
   "source": [
    "Primary Key\n",
    "When creating a table, you should also create a column with a unique key for each record.\n",
    "This can be done by defining a PRIMARY KEY.\n",
    "We use the statement \"INT AUTO_INCREMENT PRIMARY KEY\" which will insert a unique number for each record. Starting at 1, and increased by one for each record."
   ]
  },
  {
   "cell_type": "code",
   "execution_count": 11,
   "metadata": {},
   "outputs": [],
   "source": [
    "#Create primary key when creating the table:\n",
    "import mysql.connector\n",
    "\n",
    "mydb = mysql.connector.connect(\n",
    "   host=\"localhost\",\n",
    "  user=\"root\",\n",
    "  passwd=\"your Password\",\n",
    "  database=\"mydatabase\"\n",
    ")\n",
    "\n",
    "mycursor = mydb.cursor()\n",
    "\n",
    "mycursor.execute(\"CREATE TABLE customers1 (id INT AUTO_INCREMENT PRIMARY KEY, name VARCHAR(255), address VARCHAR(255))\") \n"
   ]
  },
  {
   "cell_type": "code",
   "execution_count": 13,
   "metadata": {},
   "outputs": [],
   "source": [
    "#If the table already exists, use the ALTER TABLE keyword:\n",
    "#Example\n",
    "#Create primary key on an existing table:\n",
    "import mysql.connector\n",
    "\n",
    "mydb = mysql.connector.connect(\n",
    "   host=\"localhost\",\n",
    "  user=\"root\",\n",
    "  passwd=\"your Password\",\n",
    "  database=\"mydatabase\"\n",
    ")\n",
    "\n",
    "mycursor = mydb.cursor()\n",
    "\n",
    "mycursor.execute(\"ALTER TABLE customers ADD COLUMN id INT AUTO_INCREMENT PRIMARY KEY\") "
   ]
  },
  {
   "cell_type": "markdown",
   "metadata": {},
   "source": [
    "# Insert Into Table\n",
    "To fill a table in MySQL, use the \"INSERT INTO\" statement."
   ]
  },
  {
   "cell_type": "code",
   "execution_count": 14,
   "metadata": {},
   "outputs": [
    {
     "name": "stdout",
     "output_type": "stream",
     "text": [
      "1 record inserted.\n"
     ]
    }
   ],
   "source": [
    "#Insert a record in the \"customers\" table:\n",
    "import mysql.connector\n",
    "\n",
    "mydb = mysql.connector.connect(\n",
    "   host=\"localhost\",\n",
    "  user=\"root\",\n",
    "  passwd=\"your Password\",\n",
    "  database=\"mydatabase\"\n",
    ")\n",
    "\n",
    "mycursor = mydb.cursor()\n",
    "\n",
    "sql = \"INSERT INTO customers (name, address) VALUES (%s, %s)\"\n",
    "val = (\"John\", \"Highway 21\")\n",
    "mycursor.execute(sql, val)\n",
    "\n",
    "mydb.commit()\n",
    "\n",
    "print(mycursor.rowcount, \"record inserted.\")"
   ]
  },
  {
   "cell_type": "markdown",
   "metadata": {},
   "source": [
    "## Insert Multiple Rows\n",
    "To insert multiple rows into a table, use the executemany() method.\n",
    "The second parameter of the executemany() method is a list of tuples, containing the data you want to insert:\n",
    "Example\n",
    "Fill the \"customers\" table with data:"
   ]
  },
  {
   "cell_type": "code",
   "execution_count": 31,
   "metadata": {},
   "outputs": [
    {
     "name": "stdout",
     "output_type": "stream",
     "text": [
      "13 was inserted.\n"
     ]
    }
   ],
   "source": [
    "\n",
    "import mysql.connector\n",
    "\n",
    "mydb = mysql.connector.connect(\n",
    "   host=\"localhost\",\n",
    "  user=\"root\",\n",
    "  passwd=\"your Password\",\n",
    "  database=\"mydatabase\"\n",
    ")\n",
    "\n",
    "mycursor = mydb.cursor()\n",
    "\n",
    "sql = \"INSERT INTO customers (name, address) VALUES (%s, %s)\"\n",
    "val = [\n",
    "  ('Peter', 'Lowstreet 4'),\n",
    "  ('Amy', 'Apple st 652'),\n",
    "  ('Hannah', 'Mountain 21'),\n",
    "  ('Michael', 'Valley 345'),\n",
    "  ('Sandy', 'Ocean blvd 2'),\n",
    "  ('Betty', 'Green Grass 1'),\n",
    "  ('Richard', 'Sky st 331'),\n",
    "  ('Susan', 'One way 98'),\n",
    "  ('Vicky', 'Yellow Garden 2'),\n",
    "  ('Ben', 'Park Lane 38'),\n",
    "  ('William', 'Central st 954'),\n",
    "  ('Chuck', 'Main Road 989'),\n",
    "  ('Viola', 'Sideway 1633')\n",
    "]\n",
    "\n",
    "mycursor.executemany(sql, val)\n",
    "\n",
    "mydb.commit()\n",
    "\n",
    "print(mycursor.rowcount, \"was inserted.\") "
   ]
  },
  {
   "cell_type": "markdown",
   "metadata": {},
   "source": [
    "### Get Inserted ID\n",
    "You can get the id of the row you just inserted by asking the cursor object."
   ]
  },
  {
   "cell_type": "code",
   "execution_count": 16,
   "metadata": {},
   "outputs": [
    {
     "name": "stdout",
     "output_type": "stream",
     "text": [
      "1 record inserted, ID: 15\n"
     ]
    }
   ],
   "source": [
    "#Insert one row, and return the ID:\n",
    "import mysql.connector\n",
    "\n",
    "mydb = mysql.connector.connect(\n",
    "   host=\"localhost\",\n",
    "  user=\"root\",\n",
    "  passwd=\"your Password\",\n",
    "  database=\"mydatabase\"\n",
    ")\n",
    "\n",
    "mycursor = mydb.cursor()\n",
    "\n",
    "sql = \"INSERT INTO customers (name, address) VALUES (%s, %s)\"\n",
    "val = (\"Michelle\", \"Blue Village\")\n",
    "mycursor.execute(sql, val)\n",
    "\n",
    "mydb.commit()\n",
    "\n",
    "print(\"1 record inserted, ID:\", mycursor.lastrowid) "
   ]
  },
  {
   "cell_type": "markdown",
   "metadata": {},
   "source": [
    "# Select From a Table\n",
    "To select from a table in MySQL, use the \"SELECT\" statement:"
   ]
  },
  {
   "cell_type": "code",
   "execution_count": 17,
   "metadata": {},
   "outputs": [
    {
     "name": "stdout",
     "output_type": "stream",
     "text": [
      "('John', 'Highway 21', 1)\n",
      "('Peter', 'Lowstreet 4', 2)\n",
      "('Amy', 'Apple st 652', 3)\n",
      "('Hannah', 'Mountain 21', 4)\n",
      "('Michael', 'Valley 345', 5)\n",
      "('Sandy', 'Ocean blvd 2', 6)\n",
      "('Betty', 'Green Grass 1', 7)\n",
      "('Richard', 'Sky st 331', 8)\n",
      "('Susan', 'One way 98', 9)\n",
      "('Vicky', 'Yellow Garden 2', 10)\n",
      "('Ben', 'Park Lane 38', 11)\n",
      "('William', 'Central st 954', 12)\n",
      "('Chuck', 'Main Road 989', 13)\n",
      "('Viola', 'Sideway 1633', 14)\n",
      "('Michelle', 'Blue Village', 15)\n"
     ]
    }
   ],
   "source": [
    "# Select all records from the \"customers\" table, and display the result:\n",
    "import mysql.connector\n",
    "\n",
    "mydb = mysql.connector.connect(\n",
    "   host=\"localhost\",\n",
    "  user=\"root\",\n",
    "  passwd=\"your Password\",\n",
    "  database=\"mydatabase\"\n",
    ")\n",
    "\n",
    "mycursor = mydb.cursor()\n",
    "\n",
    "mycursor.execute(\"SELECT * FROM customers\")\n",
    "\n",
    "myresult = mycursor.fetchall()\n",
    "\n",
    "for x in myresult:\n",
    "  print(x)"
   ]
  },
  {
   "cell_type": "markdown",
   "metadata": {},
   "source": [
    "### Selecting Columns\n",
    "To select only some of the columns in a table, use the \"SELECT\" statement followed by the column name(s):"
   ]
  },
  {
   "cell_type": "code",
   "execution_count": 18,
   "metadata": {},
   "outputs": [
    {
     "name": "stdout",
     "output_type": "stream",
     "text": [
      "('John', 'Highway 21')\n",
      "('Peter', 'Lowstreet 4')\n",
      "('Amy', 'Apple st 652')\n",
      "('Hannah', 'Mountain 21')\n",
      "('Michael', 'Valley 345')\n",
      "('Sandy', 'Ocean blvd 2')\n",
      "('Betty', 'Green Grass 1')\n",
      "('Richard', 'Sky st 331')\n",
      "('Susan', 'One way 98')\n",
      "('Vicky', 'Yellow Garden 2')\n",
      "('Ben', 'Park Lane 38')\n",
      "('William', 'Central st 954')\n",
      "('Chuck', 'Main Road 989')\n",
      "('Viola', 'Sideway 1633')\n",
      "('Michelle', 'Blue Village')\n"
     ]
    }
   ],
   "source": [
    "# Select only the name and address columns:\n",
    "import mysql.connector\n",
    "\n",
    "mydb = mysql.connector.connect(\n",
    "   host=\"localhost\",\n",
    "  user=\"root\",\n",
    "  passwd=\"your Password\",\n",
    "  database=\"mydatabase\"\n",
    ")\n",
    "\n",
    "mycursor = mydb.cursor()\n",
    "\n",
    "mycursor.execute(\"SELECT name, address FROM customers\")\n",
    "\n",
    "myresult = mycursor.fetchall()\n",
    "\n",
    "for x in myresult:\n",
    "  print(x) "
   ]
  },
  {
   "cell_type": "markdown",
   "metadata": {},
   "source": [
    "### Using the fetchone() Method\n",
    "If you are only interested in one row, you can use the fetchone() method.\n",
    "The fetchone() method will return the first row of the result:"
   ]
  },
  {
   "cell_type": "code",
   "execution_count": 19,
   "metadata": {},
   "outputs": [
    {
     "name": "stdout",
     "output_type": "stream",
     "text": [
      "('John', 'Highway 21', 1)\n"
     ]
    }
   ],
   "source": [
    "#Fetch only one row:\n",
    "import mysql.connector\n",
    "\n",
    "mydb = mysql.connector.connect(\n",
    "   host=\"localhost\",\n",
    "  user=\"root\",\n",
    "  passwd=\"Computer28@\",\n",
    "  database=\"mydatabase\"\n",
    ")\n",
    "\n",
    "mycursor = mydb.cursor()\n",
    "\n",
    "mycursor.execute(\"SELECT * FROM customers\")\n",
    "\n",
    "myresult = mycursor.fetchone()\n",
    "\n",
    "print(myresult) "
   ]
  },
  {
   "cell_type": "markdown",
   "metadata": {},
   "source": [
    "# Select With a Filter\n",
    "When selecting records from a table, you can filter the selection by using the \"WHERE\" statement:"
   ]
  },
  {
   "cell_type": "code",
   "execution_count": 20,
   "metadata": {},
   "outputs": [
    {
     "name": "stdout",
     "output_type": "stream",
     "text": [
      "('Ben', 'Park Lane 38', 11)\n"
     ]
    }
   ],
   "source": [
    "#Select record(s) where the address is \"Park Lane 38\": result:\n",
    "import mysql.connector\n",
    "\n",
    "mydb = mysql.connector.connect(\n",
    "   host=\"localhost\",\n",
    "  user=\"root\",\n",
    "  passwd=\"your Password\",\n",
    "  database=\"mydatabase\"\n",
    ")\n",
    "\n",
    "mycursor = mydb.cursor()\n",
    "\n",
    "sql = \"SELECT * FROM customers WHERE address ='Park Lane 38'\"\n",
    "\n",
    "mycursor.execute(sql)\n",
    "\n",
    "myresult = mycursor.fetchall()\n",
    "\n",
    "for x in myresult:\n",
    "  print(x)"
   ]
  },
  {
   "cell_type": "markdown",
   "metadata": {},
   "source": [
    "## Wildcard Characters\n",
    "You can also select the records that starts, includes, or ends with a given letter or phrase.\n",
    "Use the %  to represent wildcard characters:"
   ]
  },
  {
   "cell_type": "code",
   "execution_count": 21,
   "metadata": {},
   "outputs": [
    {
     "name": "stdout",
     "output_type": "stream",
     "text": [
      "('John', 'Highway 21', 1)\n",
      "('Susan', 'One way 98', 9)\n",
      "('Viola', 'Sideway 1633', 14)\n"
     ]
    }
   ],
   "source": [
    "#Select records where the address contains the word \"way\":\n",
    "import mysql.connector\n",
    "\n",
    "mydb = mysql.connector.connect(\n",
    "  host=\"localhost\",\n",
    "  user=\"root\",\n",
    "  passwd=\"your Password\",\n",
    "  database=\"mydatabase\"\n",
    ")\n",
    "\n",
    "mycursor = mydb.cursor()\n",
    "\n",
    "sql = \"SELECT * FROM customers WHERE address LIKE '%way%'\"\n",
    "\n",
    "mycursor.execute(sql)\n",
    "\n",
    "myresult = mycursor.fetchall()\n",
    "\n",
    "for x in myresult:\n",
    "  print(x) "
   ]
  },
  {
   "cell_type": "markdown",
   "metadata": {},
   "source": [
    "### Prevent SQL Injection\n",
    "When query values are provided by the user, you should escape the values.\n",
    "This is to prevent SQL injections, which is a common web hacking technique to destroy or misuse your database.\n",
    "The mysql.connector module has methods to escape query values:"
   ]
  },
  {
   "cell_type": "raw",
   "metadata": {},
   "source": [
    "#Escape query values by using the placholder %s method:\n",
    "import mysql.connector\n",
    "\n",
    "mydb = mysql.connector.connect(\n",
    "  host=\"localhost\",\n",
    "  user=\"yourusername\",\n",
    "  passwd=\"yourpassword\",\n",
    "  database=\"mydatabase\"\n",
    ")\n",
    "\n",
    "mycursor = mydb.cursor()\n",
    "\n",
    "sql = \"SELECT * FROM customers WHERE address = %s\"\n",
    "adr = (\"Yellow Garden 2\", )\n",
    "\n",
    "mycursor.execute(sql, adr)\n",
    "\n",
    "myresult = mycursor.fetchall()\n",
    "\n",
    "for x in myresult:\n",
    "  print(x) "
   ]
  },
  {
   "cell_type": "code",
   "execution_count": 22,
   "metadata": {},
   "outputs": [
    {
     "name": "stdout",
     "output_type": "stream",
     "text": [
      "('Vicky', 'Yellow Garden 2', 10)\n"
     ]
    }
   ],
   "source": [
    "sql = \"SELECT * FROM customers WHERE address = %s\"\n",
    "adr = (\"Yellow Garden 2\", )\n",
    "\n",
    "mycursor.execute(sql, adr)\n",
    "\n",
    "myresult = mycursor.fetchall()\n",
    "\n",
    "for x in myresult:\n",
    "  print(x) "
   ]
  },
  {
   "cell_type": "markdown",
   "metadata": {},
   "source": [
    "# MySQL Order By"
   ]
  },
  {
   "cell_type": "raw",
   "metadata": {},
   "source": [
    "Sort the Result\n",
    "Use the ORDER BY statement to sort the result in ascending or descending order.\n",
    "The ORDER BY keyword sorts the result ascending by default. To sort the result in descending order, use the DESC keyword."
   ]
  },
  {
   "cell_type": "code",
   "execution_count": 23,
   "metadata": {},
   "outputs": [
    {
     "name": "stdout",
     "output_type": "stream",
     "text": [
      "('Amy', 'Apple st 652', 3)\n",
      "('Ben', 'Park Lane 38', 11)\n",
      "('Betty', 'Green Grass 1', 7)\n",
      "('Chuck', 'Main Road 989', 13)\n",
      "('Hannah', 'Mountain 21', 4)\n",
      "('John', 'Highway 21', 1)\n",
      "('Michael', 'Valley 345', 5)\n",
      "('Michelle', 'Blue Village', 15)\n",
      "('Peter', 'Lowstreet 4', 2)\n",
      "('Richard', 'Sky st 331', 8)\n",
      "('Sandy', 'Ocean blvd 2', 6)\n",
      "('Susan', 'One way 98', 9)\n",
      "('Vicky', 'Yellow Garden 2', 10)\n",
      "('Viola', 'Sideway 1633', 14)\n",
      "('William', 'Central st 954', 12)\n"
     ]
    }
   ],
   "source": [
    "#Sort the result alphabetically by name: result:\n",
    "\n",
    "\n",
    "sql = \"SELECT * FROM customers ORDER BY name\"\n",
    "\n",
    "mycursor.execute(sql)\n",
    "\n",
    "myresult = mycursor.fetchall()\n",
    "\n",
    "for x in myresult:\n",
    "  print(x)"
   ]
  },
  {
   "cell_type": "markdown",
   "metadata": {},
   "source": [
    "## ORDER BY DESC\n",
    "Use the DESC keyword to sort the result in a descending order."
   ]
  },
  {
   "cell_type": "code",
   "execution_count": 24,
   "metadata": {},
   "outputs": [
    {
     "name": "stdout",
     "output_type": "stream",
     "text": [
      "('William', 'Central st 954', 12)\n",
      "('Viola', 'Sideway 1633', 14)\n",
      "('Vicky', 'Yellow Garden 2', 10)\n",
      "('Susan', 'One way 98', 9)\n",
      "('Sandy', 'Ocean blvd 2', 6)\n",
      "('Richard', 'Sky st 331', 8)\n",
      "('Peter', 'Lowstreet 4', 2)\n",
      "('Michelle', 'Blue Village', 15)\n",
      "('Michael', 'Valley 345', 5)\n",
      "('John', 'Highway 21', 1)\n",
      "('Hannah', 'Mountain 21', 4)\n",
      "('Chuck', 'Main Road 989', 13)\n",
      "('Betty', 'Green Grass 1', 7)\n",
      "('Ben', 'Park Lane 38', 11)\n",
      "('Amy', 'Apple st 652', 3)\n"
     ]
    }
   ],
   "source": [
    "#Sort the result reverse alphabetically by name:\n",
    "\n",
    "\n",
    "sql = \"SELECT * FROM customers ORDER BY name DESC\"\n",
    "\n",
    "mycursor.execute(sql)\n",
    "\n",
    "myresult = mycursor.fetchall()\n",
    "\n",
    "for x in myresult:\n",
    "  print(x) "
   ]
  },
  {
   "cell_type": "markdown",
   "metadata": {},
   "source": [
    "# MySQL Delete From By"
   ]
  },
  {
   "cell_type": "raw",
   "metadata": {},
   "source": [
    "Delete Record\n",
    "You can delete records from an existing table by using the \"DELETE FROM\" statement:"
   ]
  },
  {
   "cell_type": "code",
   "execution_count": 25,
   "metadata": {},
   "outputs": [
    {
     "name": "stdout",
     "output_type": "stream",
     "text": [
      "1 record(s) deleted\n"
     ]
    }
   ],
   "source": [
    "# Delete any record where the address is \"Mountain 21\":\n",
    "\n",
    "sql = \"DELETE FROM customers WHERE address = 'Mountain 21'\"\n",
    "\n",
    "mycursor.execute(sql)\n",
    "\n",
    "mydb.commit()\n",
    "\n",
    "print(mycursor.rowcount, \"record(s) deleted\")"
   ]
  },
  {
   "cell_type": "markdown",
   "metadata": {},
   "source": [
    "# Prevent SQL Injection\n",
    "It is considered a good practice to escape the values of any query, also in delete statements.\n",
    "This is to prevent SQL injections, which is a common web hacking technique to destroy or misuse your database.\n",
    "The mysql.connector module uses the placeholder %s to escape values in the delete statement:"
   ]
  },
  {
   "cell_type": "code",
   "execution_count": 26,
   "metadata": {},
   "outputs": [
    {
     "name": "stdout",
     "output_type": "stream",
     "text": [
      "1 record(s) deleted\n"
     ]
    }
   ],
   "source": [
    "#Escape values by using the placeholder %s method:\n",
    "\n",
    "\n",
    "sql = \"DELETE FROM customers WHERE address = %s\"\n",
    "adr = (\"Yellow Garden 2\", )\n",
    "\n",
    "mycursor.execute(sql, adr)\n",
    "\n",
    "mydb.commit()\n",
    "\n",
    "print(mycursor.rowcount, \"record(s) deleted\") "
   ]
  },
  {
   "cell_type": "markdown",
   "metadata": {},
   "source": [
    "# MySQL Drop Table"
   ]
  },
  {
   "cell_type": "raw",
   "metadata": {},
   "source": [
    "Delete a Table\n",
    "You can delete an existing table by using the \"DROP TABLE\" statement:"
   ]
  },
  {
   "cell_type": "code",
   "execution_count": 27,
   "metadata": {},
   "outputs": [],
   "source": [
    "#Delete the table \"customers\":\n",
    "\n",
    "\n",
    "sql = \"DROP TABLE customers\"\n",
    "\n",
    "mycursor.execute(sql) "
   ]
  },
  {
   "cell_type": "markdown",
   "metadata": {},
   "source": [
    "### Drop Only if Exist\n",
    "If the the table you want to delete is already deleted, or for any other reason does not exist, you can use the IF EXISTS keyword to avoid getting an error."
   ]
  },
  {
   "cell_type": "code",
   "execution_count": 28,
   "metadata": {},
   "outputs": [],
   "source": [
    "#Delete the table \"customers\" if it exists:\n",
    "\n",
    "\n",
    "sql = \"DROP TABLE IF EXISTS customers\"\n",
    "\n",
    "mycursor.execute(sql) "
   ]
  },
  {
   "cell_type": "markdown",
   "metadata": {},
   "source": [
    "# MySQL Update Table\n",
    "\n"
   ]
  },
  {
   "cell_type": "raw",
   "metadata": {},
   "source": [
    "# Update Table\n",
    "You can update existing records in a table by using the \"UPDATE\" statement:"
   ]
  },
  {
   "cell_type": "code",
   "execution_count": 32,
   "metadata": {},
   "outputs": [
    {
     "name": "stdout",
     "output_type": "stream",
     "text": [
      "1 record(s) affected\n"
     ]
    }
   ],
   "source": [
    "#Overwrite the address column from \"Valley 345\" to \"Canyoun 123\":\n",
    "\n",
    "\n",
    "sql = \"UPDATE customers SET address = 'Canyon 123' WHERE address = 'Valley 345'\"\n",
    "\n",
    "mycursor.execute(sql)\n",
    "\n",
    "mydb.commit()\n",
    "\n",
    "print(mycursor.rowcount, \"record(s) affected\") "
   ]
  },
  {
   "cell_type": "markdown",
   "metadata": {},
   "source": [
    "Important!: Notice the statement: mydb.commit(). It is required to make the changes, otherwise no changes are made to the table"
   ]
  },
  {
   "cell_type": "markdown",
   "metadata": {},
   "source": [
    "Notice the WHERE clause in the UPDATE syntax: The WHERE clause specifies which record or records that should be updated. If you omit the WHERE clause, all records will be updated!"
   ]
  },
  {
   "cell_type": "raw",
   "metadata": {},
   "source": [
    "Prevent SQL Injection\n",
    "It is considered a good practice to escape the values of any query, also in update statements.\n",
    "This is to prevent SQL injections, which is a common web hacking technique to destroy or misuse your database.\n",
    "The mysql.connector module uses the placeholder %s to escape values in the delete statement:"
   ]
  },
  {
   "cell_type": "code",
   "execution_count": 33,
   "metadata": {},
   "outputs": [
    {
     "name": "stdout",
     "output_type": "stream",
     "text": [
      "1 record(s) affected\n"
     ]
    }
   ],
   "source": [
    "#Escape values by using the placholder %s method:\n",
    "\n",
    "\n",
    "sql = \"UPDATE customers SET address = %s WHERE address = %s\"\n",
    "val = (\"Valley 345\", \"Canyon 123\")\n",
    "\n",
    "mycursor.execute(sql, val)\n",
    "\n",
    "mydb.commit()\n",
    "\n",
    "print(mycursor.rowcount, \"record(s) affected\") "
   ]
  },
  {
   "cell_type": "markdown",
   "metadata": {},
   "source": [
    "# MySQL Limit"
   ]
  },
  {
   "cell_type": "code",
   "execution_count": 34,
   "metadata": {},
   "outputs": [
    {
     "name": "stdout",
     "output_type": "stream",
     "text": [
      "('Peter', 'Lowstreet 4')\n",
      "('Amy', 'Apple st 652')\n",
      "('Hannah', 'Mountain 21')\n",
      "('Michael', 'Valley 345')\n",
      "('Sandy', 'Ocean blvd 2')\n"
     ]
    }
   ],
   "source": [
    "# Select the 5 first records in the \"customers\" table:\n",
    "\n",
    "\n",
    "mycursor.execute(\"SELECT * FROM customers LIMIT 5\")\n",
    "\n",
    "myresult = mycursor.fetchall()\n",
    "\n",
    "for x in myresult:\n",
    "  print(x) "
   ]
  },
  {
   "cell_type": "raw",
   "metadata": {},
   "source": [
    "Start From Another Position\n",
    "If you want to return five records, starting from the third record, you can use the \"OFFSET\" keyword:"
   ]
  },
  {
   "cell_type": "code",
   "execution_count": 35,
   "metadata": {},
   "outputs": [
    {
     "name": "stdout",
     "output_type": "stream",
     "text": [
      "('Hannah', 'Mountain 21')\n",
      "('Michael', 'Valley 345')\n",
      "('Sandy', 'Ocean blvd 2')\n",
      "('Betty', 'Green Grass 1')\n",
      "('Richard', 'Sky st 331')\n"
     ]
    }
   ],
   "source": [
    "# Start from position 3, and return 5 records:\n",
    "\n",
    "\n",
    "mycursor.execute(\"SELECT * FROM customers LIMIT 5 OFFSET 2\")\n",
    "\n",
    "myresult = mycursor.fetchall()\n",
    "\n",
    "for x in myresult:\n",
    "  print(x) "
   ]
  },
  {
   "cell_type": "markdown",
   "metadata": {},
   "source": [
    "# Join Two or More Tables\n",
    "You can combine rows from two or more tables, based on a related column between them, by using a JOIN statement.\n",
    "Consider you have a \"users\" table and a \"products\" table:"
   ]
  },
  {
   "cell_type": "raw",
   "metadata": {},
   "source": [
    "users\n",
    "{ id: 1, name: 'John', fav: 154},\n",
    "{ id: 2, name: 'Peter', fav: 154},\n",
    "{ id: 3, name: 'Amy', fav: 155},\n",
    "{ id: 4, name: 'Hannah', fav:},\n",
    "{ id: 5, name: 'Michael', fav:}\n",
    "products\n",
    "{ id: 154, name: 'Chocolate Heaven' },\n",
    "{ id: 155, name: 'Tasty Lemons' },\n",
    "{ id: 156, name: 'Vanilla Dreams' }"
   ]
  },
  {
   "cell_type": "raw",
   "metadata": {},
   "source": [
    "These two tables can be combined by using users' fav field and products' id field."
   ]
  },
  {
   "cell_type": "code",
   "execution_count": 36,
   "metadata": {},
   "outputs": [
    {
     "ename": "ProgrammingError",
     "evalue": "1146 (42S02): Table 'mydatabase.users' doesn't exist",
     "output_type": "error",
     "traceback": [
      "\u001b[1;31m---------------------------------------------------------------------------\u001b[0m",
      "\u001b[1;31mMySQLInterfaceError\u001b[0m                       Traceback (most recent call last)",
      "\u001b[1;32m~\\anaconda3\\lib\\site-packages\\mysql\\connector\\connection_cext.py\u001b[0m in \u001b[0;36mcmd_query\u001b[1;34m(self, query, raw, buffered, raw_as_string)\u001b[0m\n\u001b[0;32m    488\u001b[0m                                \u001b[0mraw\u001b[0m\u001b[1;33m=\u001b[0m\u001b[0mraw\u001b[0m\u001b[1;33m,\u001b[0m \u001b[0mbuffered\u001b[0m\u001b[1;33m=\u001b[0m\u001b[0mbuffered\u001b[0m\u001b[1;33m,\u001b[0m\u001b[1;33m\u001b[0m\u001b[1;33m\u001b[0m\u001b[0m\n\u001b[1;32m--> 489\u001b[1;33m                                raw_as_string=raw_as_string)\n\u001b[0m\u001b[0;32m    490\u001b[0m         \u001b[1;32mexcept\u001b[0m \u001b[0mMySQLInterfaceError\u001b[0m \u001b[1;32mas\u001b[0m \u001b[0mexc\u001b[0m\u001b[1;33m:\u001b[0m\u001b[1;33m\u001b[0m\u001b[1;33m\u001b[0m\u001b[0m\n",
      "\u001b[1;31mMySQLInterfaceError\u001b[0m: Table 'mydatabase.users' doesn't exist",
      "\nDuring handling of the above exception, another exception occurred:\n",
      "\u001b[1;31mProgrammingError\u001b[0m                          Traceback (most recent call last)",
      "\u001b[1;32m<ipython-input-36-da910294552a>\u001b[0m in \u001b[0;36m<module>\u001b[1;34m\u001b[0m\n\u001b[0;32m      8\u001b[0m   \u001b[0mINNER\u001b[0m \u001b[0mJOIN\u001b[0m \u001b[0mproducts\u001b[0m \u001b[0mON\u001b[0m \u001b[0musers\u001b[0m\u001b[1;33m.\u001b[0m\u001b[0mfav\u001b[0m \u001b[1;33m=\u001b[0m \u001b[0mproducts\u001b[0m\u001b[1;33m.\u001b[0m\u001b[0mid\u001b[0m\u001b[0;31m\"\u001b[0m\u001b[1;33m\u001b[0m\u001b[1;33m\u001b[0m\u001b[0m\n\u001b[0;32m      9\u001b[0m \u001b[1;33m\u001b[0m\u001b[0m\n\u001b[1;32m---> 10\u001b[1;33m \u001b[0mmycursor\u001b[0m\u001b[1;33m.\u001b[0m\u001b[0mexecute\u001b[0m\u001b[1;33m(\u001b[0m\u001b[0msql\u001b[0m\u001b[1;33m)\u001b[0m\u001b[1;33m\u001b[0m\u001b[1;33m\u001b[0m\u001b[0m\n\u001b[0m\u001b[0;32m     11\u001b[0m \u001b[1;33m\u001b[0m\u001b[0m\n\u001b[0;32m     12\u001b[0m \u001b[0mmyresult\u001b[0m \u001b[1;33m=\u001b[0m \u001b[0mmycursor\u001b[0m\u001b[1;33m.\u001b[0m\u001b[0mfetchall\u001b[0m\u001b[1;33m(\u001b[0m\u001b[1;33m)\u001b[0m\u001b[1;33m\u001b[0m\u001b[1;33m\u001b[0m\u001b[0m\n",
      "\u001b[1;32m~\\anaconda3\\lib\\site-packages\\mysql\\connector\\cursor_cext.py\u001b[0m in \u001b[0;36mexecute\u001b[1;34m(self, operation, params, multi)\u001b[0m\n\u001b[0;32m    264\u001b[0m             result = self._cnx.cmd_query(stmt, raw=self._raw,\n\u001b[0;32m    265\u001b[0m                                          \u001b[0mbuffered\u001b[0m\u001b[1;33m=\u001b[0m\u001b[0mself\u001b[0m\u001b[1;33m.\u001b[0m\u001b[0m_buffered\u001b[0m\u001b[1;33m,\u001b[0m\u001b[1;33m\u001b[0m\u001b[1;33m\u001b[0m\u001b[0m\n\u001b[1;32m--> 266\u001b[1;33m                                          raw_as_string=self._raw_as_string)\n\u001b[0m\u001b[0;32m    267\u001b[0m         \u001b[1;32mexcept\u001b[0m \u001b[0mMySQLInterfaceError\u001b[0m \u001b[1;32mas\u001b[0m \u001b[0mexc\u001b[0m\u001b[1;33m:\u001b[0m\u001b[1;33m\u001b[0m\u001b[1;33m\u001b[0m\u001b[0m\n\u001b[0;32m    268\u001b[0m             raise errors.get_mysql_exception(msg=exc.msg, errno=exc.errno,\n",
      "\u001b[1;32m~\\anaconda3\\lib\\site-packages\\mysql\\connector\\connection_cext.py\u001b[0m in \u001b[0;36mcmd_query\u001b[1;34m(self, query, raw, buffered, raw_as_string)\u001b[0m\n\u001b[0;32m    490\u001b[0m         \u001b[1;32mexcept\u001b[0m \u001b[0mMySQLInterfaceError\u001b[0m \u001b[1;32mas\u001b[0m \u001b[0mexc\u001b[0m\u001b[1;33m:\u001b[0m\u001b[1;33m\u001b[0m\u001b[1;33m\u001b[0m\u001b[0m\n\u001b[0;32m    491\u001b[0m             raise errors.get_mysql_exception(exc.errno, msg=exc.msg,\n\u001b[1;32m--> 492\u001b[1;33m                                              sqlstate=exc.sqlstate)\n\u001b[0m\u001b[0;32m    493\u001b[0m         \u001b[1;32mexcept\u001b[0m \u001b[0mAttributeError\u001b[0m\u001b[1;33m:\u001b[0m\u001b[1;33m\u001b[0m\u001b[1;33m\u001b[0m\u001b[0m\n\u001b[0;32m    494\u001b[0m             \u001b[1;32mif\u001b[0m \u001b[0mself\u001b[0m\u001b[1;33m.\u001b[0m\u001b[0m_unix_socket\u001b[0m\u001b[1;33m:\u001b[0m\u001b[1;33m\u001b[0m\u001b[1;33m\u001b[0m\u001b[0m\n",
      "\u001b[1;31mProgrammingError\u001b[0m: 1146 (42S02): Table 'mydatabase.users' doesn't exist"
     ]
    }
   ],
   "source": [
    "#Join users and products to see the name of the users favorite product:\n",
    "\n",
    "\n",
    "sql = \"SELECT \\\n",
    "  users.name AS user, \\\n",
    "  products.name AS favorite \\\n",
    "  FROM users \\\n",
    "  INNER JOIN products ON users.fav = products.id\"\n",
    "\n",
    "mycursor.execute(sql)\n",
    "\n",
    "myresult = mycursor.fetchall()\n",
    "\n",
    "for x in myresult:\n",
    "  print(x) "
   ]
  },
  {
   "cell_type": "raw",
   "metadata": {},
   "source": [
    "LEFT JOIN\n",
    "In the example above, Hannah, and Michael were excluded from the result, that is because INNER JOIN only shows the records where there is a match.\n",
    "If you want to show all users, even if they do not have a favorite product, use the LEFT JOIN statement:\n",
    "Example\n",
    "Select all users and their favorite product:\n",
    "sql = \"SELECT \\\n",
    "  users.name AS user, \\\n",
    "  products.name AS favorite \\\n",
    "  FROM users \\\n",
    "  LEFT JOIN products ON users.fav = products.id\""
   ]
  },
  {
   "cell_type": "raw",
   "metadata": {},
   "source": [
    "RIGHT JOIN\n",
    "If you want to return all products, and the users who have them as their favorite, even if no user have them as their favorite, use the RIGHT JOIN statement:\n",
    "Example\n",
    "Select all products, and the user(s) who have them as their favorite:\n",
    "sql = \"SELECT \\\n",
    "  users.name AS user, \\\n",
    "  products.name AS favorite \\\n",
    "  FROM users \\\n",
    "  RIGHT JOIN products ON users.fav = products.id\""
   ]
  },
  {
   "cell_type": "code",
   "execution_count": 21,
   "metadata": {},
   "outputs": [
    {
     "data": {
      "text/plain": [
       "0"
      ]
     },
     "execution_count": 21,
     "metadata": {},
     "output_type": "execute_result"
    }
   ],
   "source": [
    "import MySQLdb #MySQLdb is an interface for connecting to a MySQL database server from Python. \n",
    "#It implements the Python Database API v2.0 and is built on top of the MySQL C API.\n",
    "\n",
    "# Open database connection\n",
    "db = MySQLdb.connect(\"localhost\",\"root\",\"your Password\",\"mydatabase\" )\n",
    "\n",
    "#host=\"localhost\",\n",
    "#  user=\"root\",\n",
    "#  passwd=\"Computer28@\"\n",
    "# prepare a cursor object using cursor() method\n",
    "cursor = db.cursor()\n",
    "\n",
    "# Drop table if it already exist using execute() method.\n",
    "cursor.execute(\"DROP TABLE IF EXISTS EMPLOYEE\")\n",
    "\n",
    "# Create table as per requirement\n",
    "sql = \"\"\"CREATE TABLE EMPLOYEE (\n",
    "         FIRST_NAME  CHAR(20) NOT NULL,\n",
    "         LAST_NAME  CHAR(20),\n",
    "         AGE INT,  \n",
    "         SEX CHAR(1),\n",
    "         INCOME FLOAT )\"\"\"\n",
    "\n",
    "cursor.execute(sql)\n",
    "\n",
    "# disconnect from server\n",
    "#db.close()"
   ]
  },
  {
   "cell_type": "code",
   "execution_count": 22,
   "metadata": {},
   "outputs": [],
   "source": [
    "import MySQLdb\n",
    "\n",
    "# Open database connection\n",
    "db = MySQLdb.connect(\"localhost\",\"root\",\"your Password\",\"mydatabase\" )\n",
    "# prepare a cursor object using cursor() method\n",
    "cursor = db.cursor()\n",
    "\n",
    "# Prepare SQL query to INSERT a record into the database.\n",
    "sql = \"\"\"INSERT INTO EMPLOYEE(FIRST_NAME,\n",
    "         LAST_NAME, AGE, SEX, INCOME)\n",
    "         VALUES ('Mac', 'Mohan', 20, 'M', 2000)\"\"\"\n",
    "try:\n",
    "   # Execute the SQL command\n",
    "   cursor.execute(sql)\n",
    "   # Commit your changes in the database\n",
    "   db.commit()\n",
    "except:\n",
    "   # Rollback in case there is any error\n",
    "   db.rollback()\n",
    "\n",
    "# disconnect from server\n",
    "db.close()"
   ]
  },
  {
   "cell_type": "code",
   "execution_count": 23,
   "metadata": {},
   "outputs": [],
   "source": [
    "import MySQLdb\n",
    "\n",
    "# Open database connection\n",
    "db = MySQLdb.connect(\"localhost\",\"root\",\"your Password\",\"mydatabase\" )\n",
    "# prepare a cursor object using cursor() method\n",
    "cursor = db.cursor()\n",
    "\n",
    "# Prepare SQL query to INSERT a record into the database.\n",
    "sql = \"INSERT INTO EMPLOYEE(FIRST_NAME, \\\n",
    "       LAST_NAME, AGE, SEX, INCOME) \\\n",
    "       VALUES ('%s', '%s', '%d', '%c', '%d' )\" % \\\n",
    "       ('Mac', 'Mohan', 20, 'M', 2000)\n",
    "try:\n",
    "   # Execute the SQL command\n",
    "   cursor.execute(sql)\n",
    "   # Commit your changes in the database\n",
    "   db.commit()\n",
    "except:\n",
    "   # Rollback in case there is any error\n",
    "   db.rollback()\n",
    "\n",
    "# disconnect from server\n",
    "db.close()"
   ]
  },
  {
   "cell_type": "code",
   "execution_count": 24,
   "metadata": {},
   "outputs": [
    {
     "name": "stdout",
     "output_type": "stream",
     "text": [
      "fname=Mac,lname=Mohan,age=20,sex=M,income=2000\n",
      "fname=Mac,lname=Mohan,age=20,sex=M,income=2000\n"
     ]
    }
   ],
   "source": [
    "import MySQLdb\n",
    "\n",
    "# Open database connection\n",
    "db = MySQLdb.connect(\"localhost\",\"root\",\"your Password\",\"mydatabase\" )\n",
    "# prepare a cursor object using cursor() method\n",
    "cursor = db.cursor()\n",
    "\n",
    "sql = \"SELECT * FROM EMPLOYEE \\\n",
    "       WHERE INCOME > '%d'\" % (1000)\n",
    "try:\n",
    "   # Execute the SQL command\n",
    "   cursor.execute(sql)\n",
    "   # Fetch all the rows in a list of lists.\n",
    "   results = cursor.fetchall()\n",
    "   for row in results:\n",
    "    \n",
    "    \n",
    "      fname = row[0]\n",
    "      lname = row[1]\n",
    "      age = row[2]\n",
    "      sex = row[3]\n",
    "      income = row[4]\n",
    "      # Now print fetched result\n",
    "      print (\"fname=%s,lname=%s,age=%d,sex=%s,income=%d\" % \\\n",
    "             (fname, lname, age, sex, income ))\n",
    "except:\n",
    "   print (\"Error: unable to fecth data\")\n",
    "\n",
    "# disconnect from server\n",
    "db.close()"
   ]
  },
  {
   "cell_type": "code",
   "execution_count": 25,
   "metadata": {},
   "outputs": [],
   "source": [
    "import MySQLdb\n",
    "\n",
    "# Open database connection\n",
    "db = MySQLdb.connect(\"localhost\",\"root\",\"your Password\",\"mydatabase\" )\n",
    "# prepare a cursor object using cursor() method\n",
    "cursor = db.cursor()\n",
    "\n",
    "# Prepare SQL query to UPDATE required records\n",
    "sql = \"UPDATE EMPLOYEE SET AGE = AGE + 1 WHERE SEX = '%c'\" % ('M')\n",
    "try:\n",
    "   # Execute the SQL command\n",
    "   cursor.execute(sql)\n",
    "   # Commit your changes in the database\n",
    "   db.commit()\n",
    "except:\n",
    "   # Rollback in case there is any error\n",
    "   db.rollback()\n",
    "\n",
    "# disconnect from server\n",
    "db.close()"
   ]
  },
  {
   "cell_type": "code",
   "execution_count": 30,
   "metadata": {},
   "outputs": [
    {
     "name": "stdout",
     "output_type": "stream",
     "text": [
      "Mac   Mohan\n",
      "Mac   Mohan\n"
     ]
    }
   ],
   "source": [
    "import MySQLdb #MySQLdb is an interface for connecting to a MySQL database server from Python. \n",
    "#It implements the Python Database API v2.0 and is built on top of the MySQL C API.\n",
    "\n",
    "# Open database connection\n",
    "db = MySQLdb.connect(\"localhost\",\"root\",\"your Password\",\"mydatabase\" )\n",
    "\n",
    "#host=\"localhost\",\n",
    "#  user=\"root\",\n",
    "#  passwd=\"Computer28@\"\n",
    "# prepare a cursor object using cursor() method\n",
    "cursor = db.cursor()\n",
    "\n",
    "# Drop table if it already exist using execute() method.\n",
    "#cursor.execute(\"DROP TABLE IF EXISTS EMPLOYEE\")\n",
    "\n",
    "# Create table as per requirement\n",
    "sql = \"SELECT *FROM  EMPLOYEE \"\n",
    "\n",
    "cursor.execute(sql)\n",
    "# print the first and second columns      \n",
    "for row in cursor.fetchall() :\n",
    "    \n",
    "    print (row[0], \" \", row[1])"
   ]
  },
  {
   "cell_type": "code",
   "execution_count": null,
   "metadata": {},
   "outputs": [],
   "source": []
  }
 ],
 "metadata": {
  "kernelspec": {
   "display_name": "Python 3",
   "language": "python",
   "name": "python3"
  },
  "language_info": {
   "codemirror_mode": {
    "name": "ipython",
    "version": 3
   },
   "file_extension": ".py",
   "mimetype": "text/x-python",
   "name": "python",
   "nbconvert_exporter": "python",
   "pygments_lexer": "ipython3",
   "version": "3.6.10"
  }
 },
 "nbformat": 4,
 "nbformat_minor": 4
}
