{
 "cells": [
  {
   "cell_type": "markdown",
   "metadata": {},
   "source": [
    "# Database Connection"
   ]
  },
  {
   "cell_type": "raw",
   "metadata": {},
   "source": [
    "\n",
    "\n",
    "There are the following steps to connect a python application to our database.\n",
    "1.Import mysql.connector module\n",
    "2.Create the connection object. \n",
    "3.Create the cursor object\n",
    "4.Execute the query"
   ]
  },
  {
   "cell_type": "markdown",
   "metadata": {},
   "source": [
    "# Creating the connection\n",
    "To create a connection between the MySQL database and the python application, the connect() method of mysql.connector module is used. "
   ]
  },
  {
   "cell_type": "code",
   "execution_count": 1,
   "metadata": {},
   "outputs": [
    {
     "name": "stdout",
     "output_type": "stream",
     "text": [
      "<mysql.connector.connection_cext.CMySQLConnection object at 0x000002A9E65F1988>\n"
     ]
    }
   ],
   "source": [
    "import mysql.connector  \n",
    "  \n",
    "#Create the connection object   \n",
    "myconn = mysql.connector.connect(host = \"localhost\", user = \"root\",passwd = \"your Password\")  \n",
    "  \n",
    "#printing the connection object   \n",
    "print(myconn)  "
   ]
  },
  {
   "cell_type": "code",
   "execution_count": 3,
   "metadata": {},
   "outputs": [],
   "source": [
    "#create a database named \"mydatabase\":\n",
    "import mysql.connector\n",
    "\n",
    "mydb = mysql.connector.connect(\n",
    " host=\"localhost\",\n",
    "  user=\"root\",\n",
    "  passwd=\"your Password\"\n",
    ")\n",
    "\n",
    "mycursor = mydb.cursor()\n",
    "\n",
    "mycursor.execute(\"CREATE DATABASE mydb\")"
   ]
  },
  {
   "cell_type": "markdown",
   "metadata": {},
   "source": [
    "# Creating a cursor object\n",
    "The cursor object can be defined as an abstraction specified in the Python DB-API 2.0. It facilitates us to have multiple separate working environments through the same connection to the database. We can create the cursor object by calling the 'cursor' function of the connection object. The cursor object is an important aspect of executing queries to the databases. "
   ]
  },
  {
   "cell_type": "code",
   "execution_count": 4,
   "metadata": {},
   "outputs": [
    {
     "name": "stdout",
     "output_type": "stream",
     "text": [
      "<mysql.connector.connection_cext.CMySQLConnection object at 0x000002A9E685CC08>\n",
      "CMySQLCursor: (Nothing executed yet)\n"
     ]
    }
   ],
   "source": [
    "import mysql.connector  \n",
    "#Create the connection object   \n",
    "myconn = mysql.connector.connect(host = \"localhost\", user = \"root\",passwd = \"your Password\", database = \"mydb\")  \n",
    "  \n",
    "#printing the connection object   \n",
    "print(myconn)   \n",
    "  \n",
    "#creating the cursor object  \n",
    "cur = myconn.cursor()  \n",
    "  \n",
    "print(cur)  "
   ]
  },
  {
   "cell_type": "markdown",
   "metadata": {},
   "source": [
    "# Getting the list of existing databases \n",
    "We can get the list of all the databases by using the following MySQL query."
   ]
  },
  {
   "cell_type": "code",
   "execution_count": 5,
   "metadata": {},
   "outputs": [
    {
     "name": "stdout",
     "output_type": "stream",
     "text": [
      "('datacamp',)\n",
      "('datacamp1',)\n",
      "('information_schema',)\n",
      "('mydatabase',)\n",
      "('mydatabase1',)\n",
      "('mydb',)\n",
      "('mysql',)\n",
      "('performance_schema',)\n",
      "('sakila',)\n",
      "('sys',)\n",
      "('world',)\n"
     ]
    }
   ],
   "source": [
    "import mysql.connector  \n",
    "  \n",
    "#Create the connection object   \n",
    "myconn = mysql.connector.connect(host = \"localhost\", user = \"root\",passwd = \"your Password\")  \n",
    "  \n",
    "#creating the cursor object  \n",
    "cur = myconn.cursor()  \n",
    "  \n",
    "try:  \n",
    "    dbs = cur.execute(\"show databases\")  \n",
    "except:  \n",
    "    myconn.rollback()  \n",
    "for x in cur:  \n",
    "    print(x)  \n",
    "myconn.close()  "
   ]
  },
  {
   "cell_type": "markdown",
   "metadata": {},
   "source": [
    "# Creating the table\n",
    "In this section of the tutorial, we will create the new table Employee. We have to mention the database name while establishing the connection object. \n",
    "We can create the new table by using the CREATE TABLE statement of SQL. In our database PythonDB, the table Employee will have the four columns, i.e., name, id, salary, and department_id initially.\n",
    "The following query is used to create the new table Employee."
   ]
  },
  {
   "cell_type": "code",
   "execution_count": 7,
   "metadata": {},
   "outputs": [],
   "source": [
    "import mysql.connector  \n",
    "  \n",
    "#Create the connection object   \n",
    "myconn = mysql.connector.connect(host = \"localhost\", user = \"root\",passwd = \"your Password\", database = \"mydb\")  \n",
    "  \n",
    "\n",
    "#creating the cursor object  \n",
    "cur = myconn.cursor()  \n",
    "  \n",
    "try:  \n",
    "    #Creating a table with name Employee having four columns i.e., name, id, salary, and department id  \n",
    "    dbs = cur.execute(\"create table Employee(name varchar(20) not null, id int(20) not null primary key, salary float not null, Dept_id int not null)\")  \n",
    "except:  \n",
    "    myconn.rollback()  \n",
    "  \n",
    "myconn.close()  "
   ]
  },
  {
   "cell_type": "markdown",
   "metadata": {},
   "source": [
    "## Alter Table\n",
    "Sometimes, we may forget to create some columns, or we may need to update the table schema. The alter statement used to alter the table schema if required. Here, we will add the column branch_name to the table Employee. The following SQL query is used for this purpose."
   ]
  },
  {
   "cell_type": "code",
   "execution_count": 8,
   "metadata": {},
   "outputs": [],
   "source": [
    "import mysql.connector  \n",
    "  \n",
    "#Create the connection object   \n",
    "myconn = mysql.connector.connect(host = \"localhost\", user = \"root\",passwd = \"your Password\", database = \"mydb\")  \n",
    "  \n",
    "\n",
    "#creating the cursor object  \n",
    "cur = myconn.cursor()  \n",
    "try:  \n",
    "    #adding a column branch name to the table Employee  \n",
    "    cur.execute(\"alter table Employee add branch_name varchar(20) not null\")  \n",
    "except:  \n",
    "    myconn.rollback()  \n",
    "  \n",
    "myconn.close()  "
   ]
  },
  {
   "cell_type": "markdown",
   "metadata": {},
   "source": [
    "# Insert Operation\n",
    "Adding a record to the table\n",
    "The INSERT INTO statement is used to add a record to the table. In python, we can mention the format specifier (%s) in place of values. \n",
    "We provide the actual values in the form of tuple in the execute() method of the cursor. \n",
    "Consider the following example."
   ]
  },
  {
   "cell_type": "code",
   "execution_count": 9,
   "metadata": {},
   "outputs": [
    {
     "name": "stdout",
     "output_type": "stream",
     "text": [
      "1 record inserted!\n"
     ]
    }
   ],
   "source": [
    "import mysql.connector  \n",
    "  \n",
    "#Create the connection object   \n",
    "myconn = mysql.connector.connect(host = \"localhost\", user = \"root\",passwd = \"your Password\", database = \"mydb\")  \n",
    "  \n",
    "\n",
    "#creating the cursor object  \n",
    "cur = myconn.cursor()  \n",
    "sql = \"insert into Employee(name, id, salary, dept_id, branch_name) values (%s, %s, %s, %s, %s)\"  \n",
    "  \n",
    "#The row values are provided in the form of tuple   \n",
    "val = (\"John\", 110, 25000.00, 201, \"Newyork\")  \n",
    "  \n",
    "try:  \n",
    "    #inserting the values into the table  \n",
    "    cur.execute(sql,val)  \n",
    "  \n",
    "    #commit the transaction   \n",
    "    myconn.commit()  \n",
    "      \n",
    "except:  \n",
    "    myconn.rollback()  \n",
    "  \n",
    "print(cur.rowcount,\"record inserted!\")  \n",
    "myconn.close()  "
   ]
  },
  {
   "cell_type": "markdown",
   "metadata": {},
   "source": [
    "## Insert multiple rows\n",
    "We can also insert multiple rows at once using the python script. The multiple rows are mentioned as the list of various tuples.\n",
    "Each element of the list is treated as one particular row, whereas each element of the tuple is treated as one particular column value (attribute).\n",
    "Consider the following example."
   ]
  },
  {
   "cell_type": "code",
   "execution_count": 10,
   "metadata": {},
   "outputs": [
    {
     "name": "stdout",
     "output_type": "stream",
     "text": [
      "3 records inserted!\n"
     ]
    }
   ],
   "source": [
    "import mysql.connector  \n",
    "  \n",
    "#Create the connection object   \n",
    "myconn = mysql.connector.connect(host = \"localhost\", user = \"root\",passwd = \"your Password\", database = \"mydb\")  \n",
    "#creating the cursor object  \n",
    "cur = myconn.cursor()  \n",
    "sql = \"insert into Employee(name, id, salary, dept_id, branch_name) values (%s, %s, %s, %s, %s)\"  \n",
    "val = [(\"John\", 102, 25000.00, 201, \"Newyork\"),(\"David\",103,25000.00,202,\"Port of spain\"),(\"Nick\",104,90000.00,201,\"Newyork\")]  \n",
    "      \n",
    "try:  \n",
    "    #inserting the values into the table  \n",
    "    cur.executemany(sql,val)  \n",
    "  \n",
    "    #commit the transaction   \n",
    "    myconn.commit()  \n",
    "    print(cur.rowcount,\"records inserted!\")  \n",
    "      \n",
    "except:  \n",
    "    myconn.rollback()  \n",
    "  \n",
    "myconn.close()  "
   ]
  },
  {
   "cell_type": "markdown",
   "metadata": {},
   "source": [
    "### Row ID\n",
    "In SQL, a particular row is represented by an insertion id which is known as row id. We can get the last inserted row id by using the attribute lastrowid of the cursor object."
   ]
  },
  {
   "cell_type": "code",
   "execution_count": 11,
   "metadata": {},
   "outputs": [
    {
     "name": "stdout",
     "output_type": "stream",
     "text": [
      "1 record inserted! id: 0\n"
     ]
    }
   ],
   "source": [
    "import mysql.connector  \n",
    "  \n",
    "#Create the connection object   \n",
    "myconn = mysql.connector.connect(host = \"localhost\", user = \"root\",passwd = \"your Password\", database = \"mydb\") \n",
    "#creating the cursor object  \n",
    "cur = myconn.cursor()  \n",
    "      \n",
    "sql = \"insert into Employee(name, id, salary, dept_id, branch_name) values (%s, %s, %s, %s, %s)\"  \n",
    "      \n",
    "val = (\"Mike\",105,28000,202,\"Guyana\")  \n",
    "      \n",
    "try:  \n",
    "    #inserting the values into the table  \n",
    "    cur.execute(sql,val)  \n",
    "  \n",
    "    #commit the transaction   \n",
    "    myconn.commit()  \n",
    "      \n",
    "    #getting rowid  \n",
    "    print(cur.rowcount,\"record inserted! id:\",cur.lastrowid)  \n",
    "  \n",
    "except:  \n",
    "    myconn.rollback()  \n",
    "  \n",
    "myconn.close()  "
   ]
  },
  {
   "cell_type": "markdown",
   "metadata": {},
   "source": [
    "# Read Operation\n",
    "The SELECT statement is used to read the values from the databases. We can restrict the output of a select query by using various clause in SQL like where, limit, etc. \n",
    "Python provides the fetchall() method returns the data stored inside the table in the form of rows. We can iterate the result to get the individual rows."
   ]
  },
  {
   "cell_type": "code",
   "execution_count": 12,
   "metadata": {},
   "outputs": [
    {
     "name": "stdout",
     "output_type": "stream",
     "text": [
      "('John', 102, 25000.0, 201, 'Newyork')\n",
      "('David', 103, 25000.0, 202, 'Port of spain')\n",
      "('Nick', 104, 90000.0, 201, 'Newyork')\n",
      "('Mike', 105, 28000.0, 202, 'Guyana')\n",
      "('John', 110, 25000.0, 201, 'Newyork')\n"
     ]
    }
   ],
   "source": [
    "import mysql.connector  \n",
    "  \n",
    "#Create the connection object   \n",
    "myconn = mysql.connector.connect(host = \"localhost\", user = \"root\",passwd = \"your Password\", database = \"mydb\") \n",
    "\n",
    "#creating the cursor object  \n",
    "cur = myconn.cursor()  \n",
    "  \n",
    "try:  \n",
    "    #Reading the Employee data      \n",
    "    cur.execute(\"select * from Employee\")  \n",
    "  \n",
    "    #fetching the rows from the cursor object  \n",
    "    result = cur.fetchall()  \n",
    "    #printing the result  \n",
    "      \n",
    "    for x in result:  \n",
    "        print(x);  \n",
    "except:  \n",
    "    myconn.rollback()  \n",
    "  \n",
    "myconn.close()  "
   ]
  },
  {
   "cell_type": "markdown",
   "metadata": {},
   "source": [
    "## Reading specific columns\n",
    "We can read the specific columns by mentioning their names instead of using star (*).\n",
    "In the following example, we will read the name, id, and salary from the Employee table and print it on the console."
   ]
  },
  {
   "cell_type": "code",
   "execution_count": 13,
   "metadata": {},
   "outputs": [
    {
     "name": "stdout",
     "output_type": "stream",
     "text": [
      "('John', 102, 25000.0)\n",
      "('David', 103, 25000.0)\n",
      "('Nick', 104, 90000.0)\n",
      "('Mike', 105, 28000.0)\n",
      "('John', 110, 25000.0)\n"
     ]
    }
   ],
   "source": [
    "import mysql.connector  \n",
    "  \n",
    "#Create the connection object   \n",
    "myconn = mysql.connector.connect(host = \"localhost\", user = \"root\",passwd = \"your Password\", database = \"mydb\") \n",
    "#creating the cursor object  \n",
    "cur = myconn.cursor()  \n",
    "try:  \n",
    "    #Reading the Employee data      \n",
    "    cur.execute(\"select name, id, salary from Employee\")  \n",
    "  \n",
    "    #fetching the rows from the cursor object  \n",
    "    result = cur.fetchall()  \n",
    "    #printing the result  \n",
    "    for x in result:  \n",
    "        print(x);  \n",
    "except:  \n",
    "    myconn.rollback()  \n",
    "myconn.close()  "
   ]
  },
  {
   "cell_type": "markdown",
   "metadata": {},
   "source": [
    "### The fetchone() method\n",
    "The fetchone() method is used to fetch only one row from the table. The fetchone() method returns the next row of the result-set. \n",
    "Consider the following example."
   ]
  },
  {
   "cell_type": "code",
   "execution_count": 14,
   "metadata": {},
   "outputs": [
    {
     "name": "stdout",
     "output_type": "stream",
     "text": [
      "('John', 102, 25000.0)\n"
     ]
    }
   ],
   "source": [
    "import mysql.connector  \n",
    "  \n",
    "#Create the connection object   \n",
    "myconn = mysql.connector.connect(host = \"localhost\", user = \"root\",passwd = \"your Password\", database = \"mydb\") \n",
    "#creating the cursor object  \n",
    "cur = myconn.cursor()  \n",
    "  \n",
    "try:  \n",
    "    #Reading the Employee data      \n",
    "    cur.execute(\"select name, id, salary from Employee\")  \n",
    "  \n",
    "    #fetching the first row from the cursor object  \n",
    "    result = cur.fetchone()  \n",
    "  \n",
    "    #printing the result  \n",
    "    print(result)  \n",
    "  \n",
    "except:  \n",
    "    myconn.rollback()  \n",
    "      \n",
    "myconn.close()  "
   ]
  },
  {
   "cell_type": "markdown",
   "metadata": {},
   "source": [
    "# Formatting the result\n",
    "We can format the result by iterating over the result produced by the fetchall() or fetchone() method of cursor object since the result exists as the tuple object which is not readable.\n",
    "Consider the following example."
   ]
  },
  {
   "cell_type": "code",
   "execution_count": 15,
   "metadata": {},
   "outputs": [
    {
     "name": "stdout",
     "output_type": "stream",
     "text": [
      "Name    id    Salary\n",
      "John    102    25000\n",
      "David    103    25000\n",
      "Nick    104    90000\n",
      "Mike    105    28000\n",
      "John    110    25000\n"
     ]
    }
   ],
   "source": [
    "import mysql.connector  \n",
    "  \n",
    "#Create the connection object   \n",
    "myconn = mysql.connector.connect(host = \"localhost\", user = \"root\",passwd = \"your Password\", database = \"mydb\")  \n",
    "#creating the cursor object  \n",
    "cur = myconn.cursor()  \n",
    "  \n",
    "try:  \n",
    "  \n",
    "    #Reading the Employee data      \n",
    "    cur.execute(\"select name, id, salary from Employee\")  \n",
    "  \n",
    "    #fetching the rows from the cursor object  \n",
    "    result = cur.fetchall()  \n",
    "  \n",
    "    print(\"Name    id    Salary\");  \n",
    "    for row in result:  \n",
    "        print(\"%s    %d    %d\"%(row[0],row[1],row[2]))  \n",
    "except:  \n",
    "    myconn.rollback()  \n",
    "  \n",
    "myconn.close()  "
   ]
  },
  {
   "cell_type": "markdown",
   "metadata": {},
   "source": [
    "## Using where clause\n",
    "We can restrict the result produced by the select statement by using the where clause. This will extract only those columns which satisfy the where condition. \n",
    "Consider the following example."
   ]
  },
  {
   "cell_type": "code",
   "execution_count": 16,
   "metadata": {},
   "outputs": [
    {
     "name": "stdout",
     "output_type": "stream",
     "text": [
      "Name    id    Salary\n",
      "John    102    25000\n",
      "John    110    25000\n"
     ]
    }
   ],
   "source": [
    "import mysql.connector  \n",
    "  \n",
    "#Create the connection object   \n",
    "myconn = mysql.connector.connect(host = \"localhost\", user = \"root\",passwd = \"your Password\", database = \"mydb\") \n",
    "#creating the cursor object  \n",
    "cur = myconn.cursor()  \n",
    "  \n",
    "try:  \n",
    "    #Reading the Employee data      \n",
    "    cur.execute(\"select name, id, salary from Employee where name like 'J%'\")  \n",
    "  \n",
    "    #fetching the rows from the cursor object  \n",
    "    result = cur.fetchall()  \n",
    "  \n",
    "    print(\"Name    id    Salary\");  \n",
    "  \n",
    "    for row in result:  \n",
    "        print(\"%s    %d    %d\"%(row[0],row[1],row[2]))  \n",
    "except:  \n",
    "    myconn.rollback()  \n",
    "  \n",
    "myconn.close()  "
   ]
  },
  {
   "cell_type": "code",
   "execution_count": 18,
   "metadata": {},
   "outputs": [
    {
     "name": "stdout",
     "output_type": "stream",
     "text": [
      "Name    id    Salary\n",
      "John    102    25000\n",
      "David    103    25000\n"
     ]
    }
   ],
   "source": [
    "#Example: printing the names with id = 101, 102, and 103\n",
    "import mysql.connector  \n",
    "  \n",
    "#Create the connection object   \n",
    "myconn = mysql.connector.connect(host = \"localhost\", user = \"root\",passwd = \"your Password\", database = \"mydb\") \n",
    "#creating the cursor object  \n",
    "cur = myconn.cursor()  \n",
    "  \n",
    "try:  \n",
    "    #Reading the Employee data      \n",
    "    cur.execute(\"select name, id, salary from Employee where id in (101,102,103)\")  \n",
    "  \n",
    "    #fetching the rows from the cursor object  \n",
    "    result = cur.fetchall()  \n",
    "  \n",
    "    print(\"Name    id    Salary\");  \n",
    "  \n",
    "    for row in result:  \n",
    "        print(\"%s    %d    %d\"%(row[0],row[1],row[2]))  \n",
    "except:  \n",
    "    myconn.rollback()  \n",
    "      \n",
    "myconn.close()  "
   ]
  },
  {
   "cell_type": "markdown",
   "metadata": {},
   "source": [
    "## Ordering the result\n",
    "The ORDER BY clause is used to order the result. Consider the following example."
   ]
  },
  {
   "cell_type": "code",
   "execution_count": 19,
   "metadata": {},
   "outputs": [
    {
     "name": "stdout",
     "output_type": "stream",
     "text": [
      "Name    id    Salary\n",
      "David    103    25000\n",
      "John    102    25000\n",
      "John    110    25000\n",
      "Mike    105    28000\n",
      "Nick    104    90000\n"
     ]
    }
   ],
   "source": [
    "import mysql.connector  \n",
    "  \n",
    "#Create the connection object   \n",
    "myconn = mysql.connector.connect(host = \"localhost\", user = \"root\",passwd = \"your Password\", database = \"mydb\") \n",
    "#creating the cursor object  \n",
    "cur = myconn.cursor()  \n",
    "  \n",
    "try:  \n",
    "    #Reading the Employee data      \n",
    "    cur.execute(\"select name, id, salary from Employee order by name\")  \n",
    "  \n",
    "    #fetching the rows from the cursor object  \n",
    "    result = cur.fetchall()  \n",
    "  \n",
    "    print(\"Name    id    Salary\");  \n",
    "  \n",
    "    for row in result:  \n",
    "        print(\"%s    %d    %d\"%(row[0],row[1],row[2]))  \n",
    "except:  \n",
    "    myconn.rollback()  \n",
    "  \n",
    "myconn.close()  "
   ]
  },
  {
   "cell_type": "markdown",
   "metadata": {},
   "source": [
    "## Order by DESC\n",
    "This orders the result in the decreasing order of a particular column."
   ]
  },
  {
   "cell_type": "code",
   "execution_count": 20,
   "metadata": {},
   "outputs": [
    {
     "name": "stdout",
     "output_type": "stream",
     "text": [
      "Name    id    Salary\n",
      "Nick    104    90000\n",
      "Mike    105    28000\n",
      "John    102    25000\n",
      "John    110    25000\n",
      "David    103    25000\n"
     ]
    }
   ],
   "source": [
    "import mysql.connector  \n",
    "  \n",
    "#Create the connection object   \n",
    "myconn = mysql.connector.connect(host = \"localhost\", user = \"root\",passwd = \"your Password\", database = \"mydb\") \n",
    "#creating the cursor object  \n",
    "cur = myconn.cursor()  \n",
    "  \n",
    "try:  \n",
    "    #Reading the Employee data      \n",
    "    cur.execute(\"select name, id, salary from Employee order by name desc\")  \n",
    "  \n",
    "    #fetching the rows from the cursor object  \n",
    "    result = cur.fetchall()  \n",
    "  \n",
    "    #printing the result  \n",
    "    print(\"Name    id    Salary\");  \n",
    "    for row in result:  \n",
    "        print(\"%s    %d    %d\"%(row[0],row[1],row[2]))  \n",
    "  \n",
    "except:  \n",
    "    myconn.rollback()  \n",
    "  \n",
    "myconn.close()  "
   ]
  },
  {
   "cell_type": "markdown",
   "metadata": {},
   "source": [
    "## Update Operation\n",
    "The UPDATE-SET statement is used to update any column inside the table. The following SQL query is used to update a column. "
   ]
  },
  {
   "cell_type": "code",
   "execution_count": 21,
   "metadata": {},
   "outputs": [],
   "source": [
    "import mysql.connector  \n",
    "  \n",
    "#Create the connection object   \n",
    "myconn = mysql.connector.connect(host = \"localhost\", user = \"root\",passwd = \"your Password\", database = \"mydb\") \n",
    "#creating the cursor object  \n",
    "cur = myconn.cursor()  \n",
    "  \n",
    "try:  \n",
    "    #updating the name of the employee whose id is 110  \n",
    "    cur.execute(\"update Employee set name = 'alex' where id = 110\")  \n",
    "    myconn.commit()  \n",
    "except:  \n",
    "      \n",
    "    myconn.rollback()  \n",
    "  \n",
    "myconn.close()  "
   ]
  },
  {
   "cell_type": "markdown",
   "metadata": {},
   "source": [
    "## Delete Operation\n",
    "The DELETE FROM statement is used to delete a specific record from the table. Here, we must impose a condition using WHERE clause otherwise all the records from the table will be removed. "
   ]
  },
  {
   "cell_type": "code",
   "execution_count": 22,
   "metadata": {},
   "outputs": [],
   "source": [
    "import mysql.connector  \n",
    "  \n",
    "#Create the connection object   \n",
    "myconn = mysql.connector.connect(host = \"localhost\", user = \"root\",passwd = \"your Password\", database = \"mydb\") \n",
    "#creating the cursor object  \n",
    "cur = myconn.cursor()  \n",
    "  \n",
    "try:  \n",
    "    #Deleting the employee details whose id is 110  \n",
    "    cur.execute(\"delete from Employee where id = 110\")  \n",
    "    myconn.commit()  \n",
    "except:  \n",
    "      \n",
    "    myconn.rollback()  \n",
    "  \n",
    "myconn.close()  "
   ]
  },
  {
   "cell_type": "markdown",
   "metadata": {},
   "source": [
    "# Join Operation\n",
    "We can combine the columns from two or more tables by using some common column among them by using the join statement. \n",
    "We have only one table in our database, let's create one more table Departments with two columns department_id and department_name."
   ]
  },
  {
   "cell_type": "code",
   "execution_count": 23,
   "metadata": {},
   "outputs": [],
   "source": [
    "#create one more table Departments with two columns department_id and department_name\n",
    "import mysql.connector  \n",
    "  \n",
    "#Create the connection object   \n",
    "myconn = mysql.connector.connect(host = \"localhost\", user = \"root\",passwd = \"your Password\", database = \"mydb\") \n",
    "#creating the cursor object  \n",
    "cur = myconn.cursor()  \n",
    "  \n",
    "try:  \n",
    "    #Creating a table with name Employee having four columns i.e., name, id, salary, and department id  \n",
    "    dbs = cur.execute(\" create table Departments (Dept_id int(20) primary key not null, Dept_Name varchar(20) not null)\")  \n",
    "except:  \n",
    "    myconn.rollback()  \n",
    "  \n",
    "myconn.close()  "
   ]
  },
  {
   "cell_type": "code",
   "execution_count": 26,
   "metadata": {},
   "outputs": [
    {
     "name": "stdout",
     "output_type": "stream",
     "text": [
      "3 records inserted!\n"
     ]
    }
   ],
   "source": [
    "#Insert value into table Departments with two columns department_id and department_name\n",
    "import mysql.connector  \n",
    "  \n",
    "#Create the connection object   \n",
    "myconn = mysql.connector.connect(host = \"localhost\", user = \"root\",passwd = \"your Password\", database = \"mydb\")  \n",
    "#creating the cursor object  \n",
    "cur = myconn.cursor()  \n",
    "sql = \"insert into Departments(dept_id,dept_name) values (%s, %s)\"  \n",
    "val = [(201, \"CS\"),(202, \"IT\"),(203, \"IS\")]  \n",
    "      \n",
    "try:  \n",
    "    #inserting the values into the table  \n",
    "    cur.executemany(sql,val)  \n",
    "  \n",
    "    #commit the transaction   \n",
    "    myconn.commit()  \n",
    "    print(cur.rowcount,\"records inserted!\")  \n",
    "      \n",
    "except:  \n",
    "    myconn.rollback()  \n",
    "  \n",
    "myconn.close()  "
   ]
  },
  {
   "cell_type": "code",
   "execution_count": 27,
   "metadata": {},
   "outputs": [
    {
     "name": "stdout",
     "output_type": "stream",
     "text": [
      "(201, 'CS')\n",
      "(202, 'IT')\n",
      "(203, 'IS')\n"
     ]
    }
   ],
   "source": [
    "import mysql.connector  \n",
    "  \n",
    "#Create the connection object   \n",
    "myconn = mysql.connector.connect(host = \"localhost\", user = \"root\",passwd = \"your Password\", database = \"mydb\") \n",
    "\n",
    "#creating the cursor object  \n",
    "cur = myconn.cursor()  \n",
    "  \n",
    "try:  \n",
    "    #Reading the Employee data      \n",
    "    cur.execute(\"select * from Departments\")  \n",
    "  \n",
    "    #fetching the rows from the cursor object  \n",
    "    result = cur.fetchall()  \n",
    "    #printing the result  \n",
    "      \n",
    "    for x in result:  \n",
    "        print(x);  \n",
    "except:  \n",
    "    myconn.rollback()  \n",
    "  \n",
    "myconn.close()  "
   ]
  },
  {
   "cell_type": "code",
   "execution_count": 28,
   "metadata": {},
   "outputs": [
    {
     "name": "stdout",
     "output_type": "stream",
     "text": [
      "ID    Name    Salary    Dept_Id    Dept_Name\n",
      "102    John    25000    201    CS\n",
      "103    David    25000    202    IT\n",
      "104    Nick    90000    201    CS\n",
      "105    Mike    28000    202    IT\n"
     ]
    }
   ],
   "source": [
    "import mysql.connector  \n",
    "  \n",
    "#Create the connection object   \n",
    "myconn = mysql.connector.connect(host = \"localhost\", user = \"root\",passwd = \"your Password\", database = \"mydb\") \n",
    "#creating the cursor object  \n",
    "cur = myconn.cursor()  \n",
    "  \n",
    "try:  \n",
    "    #joining the two tables on departments_id  \n",
    "    cur.execute(\"select Employee.id, Employee.name, Employee.salary, Departments.Dept_id, Departments.Dept_Name from Departments join Employee on Departments.Dept_id = Employee.Dept_id\")  \n",
    "    print(\"ID    Name    Salary    Dept_Id    Dept_Name\")  \n",
    "    for row in cur:  \n",
    "        print(\"%d    %s    %d    %d    %s\"%(row[0], row[1],row[2],row[3],row[4]))  \n",
    "          \n",
    "except:  \n",
    "    myconn.rollback()  \n",
    "  \n",
    "myconn.close()  "
   ]
  },
  {
   "cell_type": "markdown",
   "metadata": {},
   "source": [
    "## Right Join\n",
    "Right join shows all the columns of the right-hand side table as we have two tables in the database PythonDB, i.e., Departments and Employee. We do not have any Employee in the table who is not working for any department (Employee for which department id is null). However, to understand the concept of right join let's create the one. "
   ]
  },
  {
   "cell_type": "code",
   "execution_count": 40,
   "metadata": {},
   "outputs": [],
   "source": [
    "import mysql.connector  \n",
    "  \n",
    "#Create the connection object   \n",
    "myconn = mysql.connector.connect(host = \"localhost\", user = \"root\",passwd = \"your Password\", database = \"mydb\")  \n",
    "#creating the cursor object  \n",
    "cur = myconn.cursor()  \n",
    "sql = \"insert into Employee(name, id, salary, dept_id, branch_name) values (%s, %s, %s, %s, %s)\"  \n",
    "  \n",
    "#The row values are provided in the form of tuple   \n",
    "val = (\"Alex\", 110, 25000.00, 201, \"Mumbai\")  \n",
    "  \n",
    "try:  \n",
    "    #inserting the values into the table  \n",
    "    cur.execute(sql,val)  \n",
    "  \n",
    "    #commit the transaction   \n",
    "    myconn.commit()   \n",
    "      \n",
    "except:  \n",
    "    myconn.rollback()  \n",
    "  \n",
    "myconn.close()  "
   ]
  },
  {
   "cell_type": "code",
   "execution_count": 41,
   "metadata": {},
   "outputs": [
    {
     "name": "stdout",
     "output_type": "stream",
     "text": [
      "ID    Name    Salary    Dept_Id    Dept_Name\n",
      "102      John      25000.0      201      CS\n",
      "103      David      25000.0      202      IT\n",
      "104      Nick      90000.0      201      CS\n",
      "105      Mike      28000.0      202      IT\n",
      "110      Alex      25000.0      201      CS\n"
     ]
    }
   ],
   "source": [
    "import mysql.connector  \n",
    "  \n",
    "#Create the connection object   \n",
    "myconn = mysql.connector.connect(host = \"localhost\", user = \"root\",passwd = \"your Password\", database = \"mydb\") \n",
    "#creating the cursor object  \n",
    "cur = myconn.cursor()  \n",
    "  \n",
    "try:  \n",
    "    #joining the two tables on departments_id  \n",
    "    result = cur.execute(\"select Employee.id, Employee.name, Employee.salary, Departments.Dept_id, Departments.Dept_Name from Departments right join Employee on Departments.Dept_id = Employee.Dept_id\")  \n",
    "      \n",
    "    print(\"ID    Name    Salary    Dept_Id    Dept_Name\")  \n",
    "      \n",
    "    for row in cur:  \n",
    "        print(row[0],\"    \", row[1],\"    \",row[2],\"    \",row[3],\"    \",row[4])  \n",
    "      \n",
    "      \n",
    "          \n",
    "except:  \n",
    "    myconn.rollback()  \n",
    "  \n",
    "myconn.close()  "
   ]
  },
  {
   "cell_type": "markdown",
   "metadata": {},
   "source": [
    "# Left Join\n",
    "The left join covers all the data from the left-hand side table. It has just opposite effect to the right join. Consider the following example.\n"
   ]
  },
  {
   "cell_type": "code",
   "execution_count": 43,
   "metadata": {},
   "outputs": [
    {
     "name": "stdout",
     "output_type": "stream",
     "text": [
      "ID    Name    Salary    Dept_Id    Dept_Name\n",
      "102      John      25000.0      201      CS\n",
      "104      Nick      90000.0      201      CS\n",
      "110      Alex      25000.0      201      CS\n",
      "103      David      25000.0      202      IT\n",
      "105      Mike      28000.0      202      IT\n",
      "None      None      None      203      IS\n"
     ]
    }
   ],
   "source": [
    "import mysql.connector  \n",
    "  \n",
    "#Create the connection object   \n",
    "myconn = mysql.connector.connect(host = \"localhost\", user = \"root\",passwd = \"your Password\", database = \"mydb\") \n",
    "#creating the cursor object  \n",
    "cur = myconn.cursor()  \n",
    "  \n",
    "try:  \n",
    "    #joining the two tables on departments_id  \n",
    "    result = cur.execute(\"select Employee.id, Employee.name, Employee.salary, Departments.Dept_id, Departments.Dept_Name from Departments left join Employee on Departments.Dept_id = Employee.Dept_id\")  \n",
    "    print(\"ID    Name    Salary    Dept_Id    Dept_Name\")  \n",
    "      \n",
    "    for row in cur:  \n",
    "        print(row[0],\"    \", row[1],\"    \",row[2],\"    \",row[3],\"    \",row[4])  \n",
    "      \n",
    "      \n",
    "          \n",
    "except:  \n",
    "    myconn.rollback()  \n",
    "  \n",
    "myconn.close() "
   ]
  },
  {
   "cell_type": "markdown",
   "metadata": {},
   "source": [
    "# Performing Transactions\n",
    "Transactions ensure the data consistency of the database. We have to make sure that more than one applications must not modify the records while performing the database operations. The transactions have the following properties.\n"
   ]
  },
  {
   "cell_type": "raw",
   "metadata": {},
   "source": [
    "1.Atomicity\n",
    "Either the transaction completes, or nothing happens. If a transaction contains 4 queries then all these queries must be executed, or none of them must be executed.\n",
    "\n",
    "2.Consistency\n",
    "The database must be consistent before the transaction starts and the database must also be consistent after the transaction is completed. \n",
    "\n",
    "3.Isolation \n",
    "Intermediate results of a transaction are not visible outside the current transaction.\n",
    "\n",
    "4.Durability \n",
    "Once a transaction was committed, the effects are persistent, even after a system failure."
   ]
  },
  {
   "cell_type": "markdown",
   "metadata": {},
   "source": [
    "### Closing the connection\n",
    "We need to close the database connection once we have done all the operations regarding the database. Python provides the close() method. The syntax to use the close() method is given below."
   ]
  },
  {
   "cell_type": "code",
   "execution_count": 45,
   "metadata": {},
   "outputs": [
    {
     "name": "stdout",
     "output_type": "stream",
     "text": [
      "Deleted !\n"
     ]
    }
   ],
   "source": [
    "import mysql.connector  \n",
    "  \n",
    "#Create the connection object   \n",
    "myconn = mysql.connector.connect(host = \"localhost\", user = \"root\",passwd = \"your Password\", database = \"mydb\")\n",
    "#creating the cursor object  \n",
    "cur = myconn.cursor()  \n",
    "  \n",
    "try:  \n",
    "    cur.execute(\"delete from Employee where Dept_id = 201\")  \n",
    "    myconn.commit()  \n",
    "    print(\"Deleted !\")  \n",
    "except:  \n",
    "    print(\"Can't delete !\")  \n",
    "    myconn.rollback()  \n",
    "  \n",
    "myconn.close() "
   ]
  },
  {
   "cell_type": "code",
   "execution_count": null,
   "metadata": {},
   "outputs": [],
   "source": []
  }
 ],
 "metadata": {
  "kernelspec": {
   "display_name": "Python 3",
   "language": "python",
   "name": "python3"
  },
  "language_info": {
   "codemirror_mode": {
    "name": "ipython",
    "version": 3
   },
   "file_extension": ".py",
   "mimetype": "text/x-python",
   "name": "python",
   "nbconvert_exporter": "python",
   "pygments_lexer": "ipython3",
   "version": "3.6.10"
  }
 },
 "nbformat": 4,
 "nbformat_minor": 4
}
